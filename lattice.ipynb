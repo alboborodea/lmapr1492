{
 "cells": [
  {
   "cell_type": "code",
   "execution_count": 1,
   "id": "entire-finance",
   "metadata": {},
   "outputs": [],
   "source": [
    "# Import\n",
    "from pymatgen import Structure\n",
    "from pymatgen.symmetry.analyzer import SpacegroupAnalyzer\n",
    "from pymatgen.ext.matproj import MPRester as mp\n",
    "from jupyter_jsmol.pymatgen import quick_view\n",
    "\n",
    "# User APE key\n",
    "USER_API_KEY = \"smdQ36uJeil4SE7H\"\n",
    "\n",
    "# Download structure\n",
    "structure = mp(USER_API_KEY).get_structure_by_material_id(\"mp-22473\")"
   ]
  },
  {
   "cell_type": "code",
   "execution_count": 2,
   "id": "bronze-hello",
   "metadata": {},
   "outputs": [
    {
     "data": {
      "application/vnd.jupyter.widget-view+json": {
       "model_id": "69e85c70bacb44b590d727023fbbd1ab",
       "version_major": 2,
       "version_minor": 0
      },
      "text/plain": [
       "JsmolView(layout=Layout(align_self='stretch', height='400px'))"
      ]
     },
     "metadata": {},
     "output_type": "display_data"
    }
   ],
   "source": [
    "# Short code to visualize the structure\n",
    "view = quick_view(structure, \"packed\")\n",
    "display(view)"
   ]
  },
  {
   "cell_type": "code",
   "execution_count": 3,
   "id": "prepared-orleans",
   "metadata": {},
   "outputs": [
    {
     "name": "stdout",
     "output_type": "stream",
     "text": [
      "The direct vectors are (in an orthonormal reference system) :\n",
      "7.157599 -2.018636 0.000000\n",
      "7.157599 2.018636 0.000000\n",
      "6.588290 0.000000 3.449718\n",
      "\n",
      "\n",
      "The reciprocal vectors are (in an orthonormal reference system) :\n",
      "0.438917 -1.556295 -0.838246\n",
      "0.438917 1.556295 -0.838246\n",
      "0.000000 0.000000 1.821362\n",
      "\n",
      "\n",
      "Lattice type is : rhombohedral\n",
      "Crystal system is : trigonal\n",
      "Point group is : -3m\n"
     ]
    }
   ],
   "source": [
    "m = mp(USER_API_KEY)\n",
    "\n",
    "# ------------------------------------------------------------------------------------------------------------------------------\n",
    "# Get direct vectors\n",
    "direct_vectors = structure.lattice\n",
    "print(\"The direct vectors are (in an orthonormal reference system) :\")\n",
    "print(direct_vectors)\n",
    "print(\"\\n\")\n",
    "\n",
    "# Get reciprocal vectors\n",
    "reciprocal_vectors = structure.lattice.reciprocal_lattice\n",
    "print(\"The reciprocal vectors are (in an orthonormal reference system) :\")\n",
    "print(reciprocal_vectors)\n",
    "print(\"\\n\")\n",
    "\n",
    "# ------------------------------------------------------------------------------------------------------------------------------\n",
    "# Get lattice type\n",
    "lattice = SpacegroupAnalyzer(structure).get_lattice_type()\n",
    "print(\"Lattice type is : \" + lattice)\n",
    "\n",
    "# Get cristal system\n",
    "print(\"Crystal system is : \" + m.get_data(\"mp-22473\")[0]['spacegroup']['crystal_system'])\n",
    "\n",
    "# Get point group\n",
    "print(\"Point group is : \" + m.get_data(\"mp-22473\")[0]['spacegroup']['point_group'])"
   ]
  }
 ],
 "metadata": {
  "kernelspec": {
   "display_name": "Python 3",
   "language": "python",
   "name": "python3"
  },
  "language_info": {
   "codemirror_mode": {
    "name": "ipython",
    "version": 3
   },
   "file_extension": ".py",
   "mimetype": "text/x-python",
   "name": "python",
   "nbconvert_exporter": "python",
   "pygments_lexer": "ipython3",
   "version": "3.6.8"
  }
 },
 "nbformat": 4,
 "nbformat_minor": 5
}
