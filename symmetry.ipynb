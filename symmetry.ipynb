{
 "cells": [
  {
   "cell_type": "markdown",
   "id": "living-coupon",
   "metadata": {},
   "source": [
    "# LMAPR1492 - Analyse des opérations de symétrie"
   ]
  },
  {
   "cell_type": "markdown",
   "id": "clear-guarantee",
   "metadata": {},
   "source": [
    "### Import"
   ]
  },
  {
   "cell_type": "code",
   "execution_count": 10,
   "id": "substantial-actress",
   "metadata": {},
   "outputs": [],
   "source": [
    "# Import\n",
    "from pymatgen import Structure\n",
    "from pymatgen.symmetry.analyzer import SpacegroupAnalyzer\n",
    "from pymatgen.ext.matproj import MPRester as mp\n",
    "from pymatgen.io.cif import CifWriter\n",
    "from jupyter_jsmol.pymatgen import quick_view\n",
    "\n",
    "# User APE key\n",
    "USER_API_KEY = \"smdQ36uJeil4SE7H\""
   ]
  },
  {
   "cell_type": "markdown",
   "id": "sealed-france",
   "metadata": {},
   "source": [
    "### Téléchargement de la structure et du fichier"
   ]
  },
  {
   "cell_type": "code",
   "execution_count": 11,
   "id": "ordinary-apparel",
   "metadata": {},
   "outputs": [],
   "source": [
    "# Download structure\n",
    "structure = mp(USER_API_KEY).get_structure_by_material_id(\"mp-22473\")\n",
    "\n",
    "# Download file\n",
    "file_writer = CifWriter(structure, 0.1)\n",
    "file_writer.write_file('NaInSe2-mp-22473.cif')"
   ]
  },
  {
   "cell_type": "markdown",
   "id": "moving-wages",
   "metadata": {},
   "source": [
    "### Structure symétrisée"
   ]
  },
  {
   "cell_type": "code",
   "execution_count": 12,
   "id": "integrated-sterling",
   "metadata": {},
   "outputs": [
    {
     "data": {
      "application/vnd.jupyter.widget-view+json": {
       "model_id": "37af0545c2074848a7f27fef6c219dc5",
       "version_major": 2,
       "version_minor": 0
      },
      "text/plain": [
       "JsmolView(layout=Layout(align_self='stretch', height='400px'))"
      ]
     },
     "metadata": {},
     "output_type": "display_data"
    }
   ],
   "source": [
    "# Visualize symmetrized structure\n",
    "view = quick_view(structure, \"packed\")\n",
    "display(view)"
   ]
  },
  {
   "cell_type": "markdown",
   "id": "velvet-herald",
   "metadata": {},
   "source": [
    "### Structure conventionnelle"
   ]
  },
  {
   "cell_type": "code",
   "execution_count": 13,
   "id": "realistic-cylinder",
   "metadata": {},
   "outputs": [
    {
     "data": {
      "application/vnd.jupyter.widget-view+json": {
       "model_id": "5f3a2e7b581c4cf5a69455572d33454f",
       "version_major": 2,
       "version_minor": 0
      },
      "text/plain": [
       "JsmolView(layout=Layout(align_self='stretch', height='400px'))"
      ]
     },
     "metadata": {},
     "output_type": "display_data"
    }
   ],
   "source": [
    "# Visualize conventional structure\n",
    "conventional_structure = SpacegroupAnalyzer(structure).get_conventional_standard_structure()\n",
    "view = quick_view(conventional_structure, \"packed\")\n",
    "display(view)"
   ]
  },
  {
   "cell_type": "markdown",
   "id": "ranging-olympus",
   "metadata": {},
   "source": [
    "### Liste des opérations de symétrie"
   ]
  },
  {
   "cell_type": "code",
   "execution_count": 14,
   "id": "stainless-america",
   "metadata": {},
   "outputs": [],
   "source": [
    "symmetry = SpacegroupAnalyzer(conventional_structure)\n",
    "symmetry_list = symmetry.get_symmetry_operations()"
   ]
  },
  {
   "cell_type": "markdown",
   "id": "dirty-nicholas",
   "metadata": {},
   "source": [
    "### Opération de symétrie : inversion"
   ]
  },
  {
   "cell_type": "markdown",
   "id": "burning-unemployment",
   "metadata": {},
   "source": [
    "L'équation caractérisant l'opération d'inversion est :\n",
    "$\n",
    "\\left(\n",
    "\\begin{array}{ccc}\n",
    "-1 & 0 & 0\\\\\n",
    "0 & -1 & 0\\\\\n",
    "0 & 0 & -1\\\\\n",
    "\\end{array} \\right)\n",
    "\\left(\n",
    "\\begin{array}{ccc}\n",
    "x\\\\\n",
    "y\\\\\n",
    "z\\\\\n",
    "\\end{array} \\right) + \n",
    "\\left(\n",
    "\\begin{array}{ccc}\n",
    "0\\\\\n",
    "0\\\\\n",
    "0\\\\\n",
    "\\end{array} \\right) =\n",
    "\\left(\n",
    "\\begin{array}{ccc}\n",
    "-x\\\\\n",
    "-y\\\\\n",
    "-z\\\\\n",
    "\\end{array} \\right)\n",
    "$\n",
    "\n",
    "L'inversion se fait par rapport au point $(0, 0, 0)$."
   ]
  },
  {
   "cell_type": "code",
   "execution_count": 15,
   "id": "intellectual-consciousness",
   "metadata": {},
   "outputs": [
    {
     "data": {
      "application/vnd.jupyter.widget-view+json": {
       "model_id": "4c43d86bce764e2db39f6e7bcb5dc300",
       "version_major": 2,
       "version_minor": 0
      },
      "text/plain": [
       "JsmolView(layout=Layout(align_self='stretch', height='400px'))"
      ]
     },
     "metadata": {},
     "output_type": "display_data"
    }
   ],
   "source": [
    "# Use quick view and script to select the symmetry operation for particular atom number\n",
    "view = quick_view(conventional_structure, \"packed\")\n",
    "display(view)\n",
    "view.script(\"draw symop 2 (atomno=7)\")"
   ]
  },
  {
   "cell_type": "markdown",
   "id": "fossil-peninsula",
   "metadata": {},
   "source": [
    "### Opération de symétrie : réflexion par rapport à un plan miroir"
   ]
  },
  {
   "cell_type": "markdown",
   "id": "unlike-reduction",
   "metadata": {},
   "source": [
    "On considère la direction $\\left[ 1 1 0 \\right]$. Le plan miroir est défini par $\\left( 1 1 0 \\right)$.  \n",
    "L'équation caractérisant l'opération de réflexion par rapport au plan miroir considéré est :\n",
    "$\n",
    "\\left(\n",
    "\\begin{array}{ccc}\n",
    "0 & -1 & 0\\\\\n",
    "-1 & 0 & 0\\\\\n",
    "0 & 0 & 1\\\\\n",
    "\\end{array} \\right)\n",
    "\\left(\n",
    "\\begin{array}{ccc}\n",
    "x\\\\\n",
    "y\\\\\n",
    "z\\\\\n",
    "\\end{array} \\right) +\n",
    "\\left(\n",
    "\\begin{array}{ccc}\n",
    "0\\\\\n",
    "0\\\\\n",
    "0\\\\\n",
    "\\end{array} \\right) =\n",
    "\\left(\n",
    "\\begin{array}{ccc}\n",
    "-y\\\\\n",
    "x\\\\\n",
    "z\\\\\n",
    "\\end{array} \\right)\n",
    "$"
   ]
  },
  {
   "cell_type": "code",
   "execution_count": 16,
   "id": "technical-atlanta",
   "metadata": {},
   "outputs": [
    {
     "data": {
      "application/vnd.jupyter.widget-view+json": {
       "model_id": "b05fbaeca3a0443da348943547e63bda",
       "version_major": 2,
       "version_minor": 0
      },
      "text/plain": [
       "JsmolView(layout=Layout(align_self='stretch', height='400px'))"
      ]
     },
     "metadata": {},
     "output_type": "display_data"
    }
   ],
   "source": [
    "# Use quick view and script to select the symmetry operation for particular atom number\n",
    "view = quick_view(conventional_structure, \"packed\")\n",
    "display(view)\n",
    "view.script(\"draw symop 8 (atomno=9)\")"
   ]
  },
  {
   "cell_type": "markdown",
   "id": "unauthorized-antarctica",
   "metadata": {},
   "source": [
    "### Opération de symétrie : translation"
   ]
  },
  {
   "cell_type": "markdown",
   "id": "complicated-albany",
   "metadata": {},
   "source": [
    "L'équation caractérisant l'opération translation est :\n",
    "$\n",
    "\\left(\n",
    "\\begin{array}{ccc}\n",
    "1 & 0 & 0\\\\\n",
    "0 & 1 & 0\\\\\n",
    "0 & 0 & 1\\\\\n",
    "\\end{array} \\right)\n",
    "\\left(\n",
    "\\begin{array}{ccc}\n",
    "x\\\\\n",
    "y\\\\\n",
    "z\\\\\n",
    "\\end{array} \\right) +\n",
    "\\left(\n",
    "\\begin{array}{ccc}\n",
    "\\frac{2}{3}\\\\\n",
    "\\frac{1}{3}\\\\\n",
    "\\frac{1}{3}\\\\\n",
    "\\end{array} \\right) =\n",
    "\\left(\n",
    "\\begin{array}{ccc}\n",
    "x + \\frac{2}{3}\\\\\n",
    "y + \\frac{1}{3}\\\\\n",
    "z + \\frac{1}{3}\\\\\n",
    "\\end{array} \\right)\n",
    "$"
   ]
  },
  {
   "cell_type": "code",
   "execution_count": 17,
   "id": "applied-bunch",
   "metadata": {
    "scrolled": false
   },
   "outputs": [
    {
     "data": {
      "application/vnd.jupyter.widget-view+json": {
       "model_id": "c47551ab198a4ba5b12251d8e12f420a",
       "version_major": 2,
       "version_minor": 0
      },
      "text/plain": [
       "JsmolView(layout=Layout(align_self='stretch', height='400px'))"
      ]
     },
     "metadata": {},
     "output_type": "display_data"
    }
   ],
   "source": [
    "# Use quick view and script to select the symmetry operation for particular atom number\n",
    "view = quick_view(conventional_structure, \"packed\")\n",
    "display(view)\n",
    "view.script(\"draw symop 13 (atomno=1)\")"
   ]
  },
  {
   "cell_type": "code",
   "execution_count": 18,
   "id": "confidential-warrant",
   "metadata": {},
   "outputs": [
    {
     "name": "stdout",
     "output_type": "stream",
     "text": [
      "Rot:\n",
      "[[-1.  0.  0.]\n",
      " [ 0. -1.  0.]\n",
      " [ 0.  0. -1.]]\n",
      "tau\n",
      "[0. 0. 0.]\n",
      "Rot:\n",
      "[[ 0. -1.  0.]\n",
      " [-1.  0.  0.]\n",
      " [ 0.  0.  1.]]\n",
      "tau\n",
      "[0. 0. 0.]\n",
      "Rot:\n",
      "[[1. 0. 0.]\n",
      " [0. 1. 0.]\n",
      " [0. 0. 1.]]\n",
      "tau\n",
      "[0.66666667 0.33333333 0.33333333]\n"
     ]
    }
   ],
   "source": [
    "print(symmetry_list[1])\n",
    "print(symmetry_list[7])\n",
    "print(symmetry_list[12])"
   ]
  }
 ],
 "metadata": {
  "kernelspec": {
   "display_name": "Python 3",
   "language": "python",
   "name": "python3"
  },
  "language_info": {
   "codemirror_mode": {
    "name": "ipython",
    "version": 3
   },
   "file_extension": ".py",
   "mimetype": "text/x-python",
   "name": "python",
   "nbconvert_exporter": "python",
   "pygments_lexer": "ipython3",
   "version": "3.6.8"
  }
 },
 "nbformat": 4,
 "nbformat_minor": 5
}
