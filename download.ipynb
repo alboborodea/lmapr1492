{
 "cells": [
  {
   "cell_type": "code",
   "execution_count": 7,
   "id": "transsexual-craps",
   "metadata": {},
   "outputs": [
    {
     "data": {
      "application/vnd.jupyter.widget-view+json": {
       "model_id": "d8be51290af24883a2df6afffc3c6f85",
       "version_major": 2,
       "version_minor": 0
      },
      "text/plain": [
       "JsmolView(layout=Layout(align_self='stretch', height='400px'))"
      ]
     },
     "metadata": {},
     "output_type": "display_data"
    }
   ],
   "source": [
    "# Import\n",
    "from pymatgen import Structure\n",
    "from pymatgen.ext.matproj import MPRester as mp\n",
    "from jupyter_jsmol.pymatgen import quick_view\n",
    "\n",
    "# User APE key\n",
    "USER_API_KEY = \"smdQ36uJeil4SE7H\"\n",
    "\n",
    "# Download structure\n",
    "structure = mp(USER_API_KEY).get_structure_by_material_id(\"mp-22473\")\n",
    "\n",
    "# Short code to visualize the structure\n",
    "view = quick_view(structure, \"packed\")\n",
    "display(view)"
   ]
  }
 ],
 "metadata": {
  "kernelspec": {
   "display_name": "Python 3",
   "language": "python",
   "name": "python3"
  },
  "language_info": {
   "codemirror_mode": {
    "name": "ipython",
    "version": 3
   },
   "file_extension": ".py",
   "mimetype": "text/x-python",
   "name": "python",
   "nbconvert_exporter": "python",
   "pygments_lexer": "ipython3",
   "version": "3.6.8"
  }
 },
 "nbformat": 4,
 "nbformat_minor": 5
}
